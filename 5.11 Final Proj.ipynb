{
 "cells": [
  {
   "cell_type": "markdown",
   "metadata": {},
   "source": [
    "# Michael Kastanowski\n",
    "## mrk9fx"
   ]
  },
  {
   "cell_type": "code",
   "execution_count": 1,
   "metadata": {},
   "outputs": [],
   "source": [
    "import csv\n",
    "import sys\n",
    "import pandas as pd"
   ]
  },
  {
   "cell_type": "code",
   "execution_count": 2,
   "metadata": {},
   "outputs": [],
   "source": [
    "vacc_yc= pd.read_csv(\"Vaccination_Coverage_among_Young_Children__0-35_Months_.csv\")"
   ]
  },
  {
   "cell_type": "code",
   "execution_count": 3,
   "metadata": {},
   "outputs": [
    {
     "data": {
      "text/html": [
       "<div>\n",
       "<style scoped>\n",
       "    .dataframe tbody tr th:only-of-type {\n",
       "        vertical-align: middle;\n",
       "    }\n",
       "\n",
       "    .dataframe tbody tr th {\n",
       "        vertical-align: top;\n",
       "    }\n",
       "\n",
       "    .dataframe thead th {\n",
       "        text-align: right;\n",
       "    }\n",
       "</style>\n",
       "<table border=\"1\" class=\"dataframe\">\n",
       "  <thead>\n",
       "    <tr style=\"text-align: right;\">\n",
       "      <th></th>\n",
       "      <th>Vaccine</th>\n",
       "      <th>Dose</th>\n",
       "      <th>Geography Type</th>\n",
       "      <th>Geography</th>\n",
       "      <th>Birth Year/Birth Cohort</th>\n",
       "      <th>Age</th>\n",
       "      <th>Estimate (%)</th>\n",
       "      <th>95% CI (%)</th>\n",
       "      <th>Sample Size</th>\n",
       "    </tr>\n",
       "  </thead>\n",
       "  <tbody>\n",
       "    <tr>\n",
       "      <td>0</td>\n",
       "      <td>DTaP</td>\n",
       "      <td>≥1 Dose</td>\n",
       "      <td>States/Local Areas</td>\n",
       "      <td>Alabama</td>\n",
       "      <td>2011</td>\n",
       "      <td>3 Months</td>\n",
       "      <td>87.6</td>\n",
       "      <td>81.6 to 91.8</td>\n",
       "      <td>218.0</td>\n",
       "    </tr>\n",
       "    <tr>\n",
       "      <td>1</td>\n",
       "      <td>DTaP</td>\n",
       "      <td>≥1 Dose</td>\n",
       "      <td>States/Local Areas</td>\n",
       "      <td>Alaska</td>\n",
       "      <td>2011</td>\n",
       "      <td>3 Months</td>\n",
       "      <td>87.9</td>\n",
       "      <td>85.5 to 89.9</td>\n",
       "      <td>288.0</td>\n",
       "    </tr>\n",
       "    <tr>\n",
       "      <td>2</td>\n",
       "      <td>DTaP</td>\n",
       "      <td>≥1 Dose</td>\n",
       "      <td>States/Local Areas</td>\n",
       "      <td>Arizona</td>\n",
       "      <td>2011</td>\n",
       "      <td>3 Months</td>\n",
       "      <td>84.8</td>\n",
       "      <td>79.5 to 88.9</td>\n",
       "      <td>266.0</td>\n",
       "    </tr>\n",
       "    <tr>\n",
       "      <td>3</td>\n",
       "      <td>DTaP</td>\n",
       "      <td>≥1 Dose</td>\n",
       "      <td>States/Local Areas</td>\n",
       "      <td>Arkansas</td>\n",
       "      <td>2011</td>\n",
       "      <td>3 Months</td>\n",
       "      <td>80.6</td>\n",
       "      <td>75.7 to 84.7</td>\n",
       "      <td>230.0</td>\n",
       "    </tr>\n",
       "    <tr>\n",
       "      <td>4</td>\n",
       "      <td>DTaP</td>\n",
       "      <td>≥1 Dose</td>\n",
       "      <td>States/Local Areas</td>\n",
       "      <td>California</td>\n",
       "      <td>2011</td>\n",
       "      <td>3 Months</td>\n",
       "      <td>89.6</td>\n",
       "      <td>84.2 to 93.3</td>\n",
       "      <td>298.0</td>\n",
       "    </tr>\n",
       "    <tr>\n",
       "      <td>...</td>\n",
       "      <td>...</td>\n",
       "      <td>...</td>\n",
       "      <td>...</td>\n",
       "      <td>...</td>\n",
       "      <td>...</td>\n",
       "      <td>...</td>\n",
       "      <td>...</td>\n",
       "      <td>...</td>\n",
       "      <td>...</td>\n",
       "    </tr>\n",
       "    <tr>\n",
       "      <td>58645</td>\n",
       "      <td>Influenza</td>\n",
       "      <td>NaN</td>\n",
       "      <td>States/Local Areas</td>\n",
       "      <td>Virginia</td>\n",
       "      <td>2017</td>\n",
       "      <td>24 Months</td>\n",
       "      <td>63.2</td>\n",
       "      <td>51.6 to 74.7</td>\n",
       "      <td>201.0</td>\n",
       "    </tr>\n",
       "    <tr>\n",
       "      <td>58646</td>\n",
       "      <td>Influenza</td>\n",
       "      <td>NaN</td>\n",
       "      <td>States/Local Areas</td>\n",
       "      <td>Washington</td>\n",
       "      <td>2017</td>\n",
       "      <td>24 Months</td>\n",
       "      <td>72.9</td>\n",
       "      <td>64.3 to 80.8</td>\n",
       "      <td>235.0</td>\n",
       "    </tr>\n",
       "    <tr>\n",
       "      <td>58647</td>\n",
       "      <td>Influenza</td>\n",
       "      <td>NaN</td>\n",
       "      <td>States/Local Areas</td>\n",
       "      <td>West Virginia</td>\n",
       "      <td>2017</td>\n",
       "      <td>24 Months</td>\n",
       "      <td>54.0</td>\n",
       "      <td>44.6 to 64.1</td>\n",
       "      <td>175.0</td>\n",
       "    </tr>\n",
       "    <tr>\n",
       "      <td>58648</td>\n",
       "      <td>Influenza</td>\n",
       "      <td>NaN</td>\n",
       "      <td>States/Local Areas</td>\n",
       "      <td>Wisconsin</td>\n",
       "      <td>2017</td>\n",
       "      <td>24 Months</td>\n",
       "      <td>68.2</td>\n",
       "      <td>57.9 to 78.1</td>\n",
       "      <td>161.0</td>\n",
       "    </tr>\n",
       "    <tr>\n",
       "      <td>58649</td>\n",
       "      <td>Influenza</td>\n",
       "      <td>NaN</td>\n",
       "      <td>States/Local Areas</td>\n",
       "      <td>Wyoming</td>\n",
       "      <td>2017</td>\n",
       "      <td>24 Months</td>\n",
       "      <td>59.7</td>\n",
       "      <td>50.3 to 69.4</td>\n",
       "      <td>170.0</td>\n",
       "    </tr>\n",
       "  </tbody>\n",
       "</table>\n",
       "<p>58650 rows × 9 columns</p>\n",
       "</div>"
      ],
      "text/plain": [
       "         Vaccine     Dose      Geography Type      Geography  \\\n",
       "0           DTaP  ≥1 Dose  States/Local Areas        Alabama   \n",
       "1           DTaP  ≥1 Dose  States/Local Areas         Alaska   \n",
       "2           DTaP  ≥1 Dose  States/Local Areas        Arizona   \n",
       "3           DTaP  ≥1 Dose  States/Local Areas       Arkansas   \n",
       "4           DTaP  ≥1 Dose  States/Local Areas     California   \n",
       "...          ...      ...                 ...            ...   \n",
       "58645  Influenza      NaN  States/Local Areas       Virginia   \n",
       "58646  Influenza      NaN  States/Local Areas     Washington   \n",
       "58647  Influenza      NaN  States/Local Areas  West Virginia   \n",
       "58648  Influenza      NaN  States/Local Areas      Wisconsin   \n",
       "58649  Influenza      NaN  States/Local Areas        Wyoming   \n",
       "\n",
       "      Birth Year/Birth Cohort        Age  Estimate (%)    95% CI (%)  \\\n",
       "0                        2011   3 Months          87.6  81.6 to 91.8   \n",
       "1                        2011   3 Months          87.9  85.5 to 89.9   \n",
       "2                        2011   3 Months          84.8  79.5 to 88.9   \n",
       "3                        2011   3 Months          80.6  75.7 to 84.7   \n",
       "4                        2011   3 Months          89.6  84.2 to 93.3   \n",
       "...                       ...        ...           ...           ...   \n",
       "58645                    2017  24 Months          63.2  51.6 to 74.7   \n",
       "58646                    2017  24 Months          72.9  64.3 to 80.8   \n",
       "58647                    2017  24 Months          54.0  44.6 to 64.1   \n",
       "58648                    2017  24 Months          68.2  57.9 to 78.1   \n",
       "58649                    2017  24 Months          59.7  50.3 to 69.4   \n",
       "\n",
       "       Sample Size  \n",
       "0            218.0  \n",
       "1            288.0  \n",
       "2            266.0  \n",
       "3            230.0  \n",
       "4            298.0  \n",
       "...            ...  \n",
       "58645        201.0  \n",
       "58646        235.0  \n",
       "58647        175.0  \n",
       "58648        161.0  \n",
       "58649        170.0  \n",
       "\n",
       "[58650 rows x 9 columns]"
      ]
     },
     "execution_count": 3,
     "metadata": {},
     "output_type": "execute_result"
    }
   ],
   "source": [
    "vacc_yc"
   ]
  },
  {
   "cell_type": "markdown",
   "metadata": {},
   "source": [
    "# Number of Records\n",
    "\n",
    "58650 Records"
   ]
  },
  {
   "cell_type": "markdown",
   "metadata": {},
   "source": [
    "# Number of Columns(Variables)\n",
    "\n",
    "8 Variables"
   ]
  },
  {
   "cell_type": "markdown",
   "metadata": {},
   "source": [
    "# Response Variable\n",
    "\n",
    "Estimate(%): the estimated percentage of children of a certain age vaccinated in the state."
   ]
  },
  {
   "cell_type": "code",
   "execution_count": 4,
   "metadata": {},
   "outputs": [
    {
     "data": {
      "text/html": [
       "<div>\n",
       "<style scoped>\n",
       "    .dataframe tbody tr th:only-of-type {\n",
       "        vertical-align: middle;\n",
       "    }\n",
       "\n",
       "    .dataframe tbody tr th {\n",
       "        vertical-align: top;\n",
       "    }\n",
       "\n",
       "    .dataframe thead th {\n",
       "        text-align: right;\n",
       "    }\n",
       "</style>\n",
       "<table border=\"1\" class=\"dataframe\">\n",
       "  <thead>\n",
       "    <tr style=\"text-align: right;\">\n",
       "      <th></th>\n",
       "      <th>Estimate (%)</th>\n",
       "    </tr>\n",
       "  </thead>\n",
       "  <tbody>\n",
       "    <tr>\n",
       "      <td>count</td>\n",
       "      <td>58592.000000</td>\n",
       "    </tr>\n",
       "    <tr>\n",
       "      <td>mean</td>\n",
       "      <td>81.871308</td>\n",
       "    </tr>\n",
       "    <tr>\n",
       "      <td>std</td>\n",
       "      <td>14.099273</td>\n",
       "    </tr>\n",
       "    <tr>\n",
       "      <td>min</td>\n",
       "      <td>5.300000</td>\n",
       "    </tr>\n",
       "    <tr>\n",
       "      <td>25%</td>\n",
       "      <td>75.700000</td>\n",
       "    </tr>\n",
       "    <tr>\n",
       "      <td>50%</td>\n",
       "      <td>86.600000</td>\n",
       "    </tr>\n",
       "    <tr>\n",
       "      <td>75%</td>\n",
       "      <td>91.800000</td>\n",
       "    </tr>\n",
       "    <tr>\n",
       "      <td>max</td>\n",
       "      <td>99.900000</td>\n",
       "    </tr>\n",
       "  </tbody>\n",
       "</table>\n",
       "</div>"
      ],
      "text/plain": [
       "       Estimate (%)\n",
       "count  58592.000000\n",
       "mean      81.871308\n",
       "std       14.099273\n",
       "min        5.300000\n",
       "25%       75.700000\n",
       "50%       86.600000\n",
       "75%       91.800000\n",
       "max       99.900000"
      ]
     },
     "execution_count": 4,
     "metadata": {},
     "output_type": "execute_result"
    }
   ],
   "source": [
    "vacc_yc[['Estimate (%)']].describe()"
   ]
  },
  {
   "cell_type": "markdown",
   "metadata": {},
   "source": [
    "# Potential Predictor Variables\n",
    "\n",
    "Vaccine, Geography, Birth Year/Birth Cohort, Age"
   ]
  },
  {
   "cell_type": "markdown",
   "metadata": {},
   "source": [
    "## Vaccine"
   ]
  },
  {
   "cell_type": "code",
   "execution_count": 5,
   "metadata": {},
   "outputs": [
    {
     "data": {
      "text/html": [
       "<div>\n",
       "<style scoped>\n",
       "    .dataframe tbody tr th:only-of-type {\n",
       "        vertical-align: middle;\n",
       "    }\n",
       "\n",
       "    .dataframe tbody tr th {\n",
       "        vertical-align: top;\n",
       "    }\n",
       "\n",
       "    .dataframe thead th {\n",
       "        text-align: right;\n",
       "    }\n",
       "</style>\n",
       "<table border=\"1\" class=\"dataframe\">\n",
       "  <thead>\n",
       "    <tr style=\"text-align: right;\">\n",
       "      <th></th>\n",
       "      <th>Vaccine</th>\n",
       "    </tr>\n",
       "  </thead>\n",
       "  <tbody>\n",
       "    <tr>\n",
       "      <td>count</td>\n",
       "      <td>58650</td>\n",
       "    </tr>\n",
       "    <tr>\n",
       "      <td>unique</td>\n",
       "      <td>11</td>\n",
       "    </tr>\n",
       "    <tr>\n",
       "      <td>top</td>\n",
       "      <td>Hib</td>\n",
       "    </tr>\n",
       "    <tr>\n",
       "      <td>freq</td>\n",
       "      <td>12843</td>\n",
       "    </tr>\n",
       "  </tbody>\n",
       "</table>\n",
       "</div>"
      ],
      "text/plain": [
       "       Vaccine\n",
       "count    58650\n",
       "unique      11\n",
       "top        Hib\n",
       "freq     12843"
      ]
     },
     "execution_count": 5,
     "metadata": {},
     "output_type": "execute_result"
    }
   ],
   "source": [
    "vacc_yc[['Vaccine']].describe()\n",
    "#for i in vacc_yc.Vaccine.unique().tolist():\n",
    "   # a = vacc_yc.loc[vacc_yc['Vaccine']==i]\n"
   ]
  },
  {
   "cell_type": "code",
   "execution_count": 27,
   "metadata": {},
   "outputs": [
    {
     "data": {
      "text/plain": [
       "<bound method IndexOpsMixin.value_counts of 0             DTaP\n",
       "1             DTaP\n",
       "2             DTaP\n",
       "3             DTaP\n",
       "4             DTaP\n",
       "           ...    \n",
       "58645    Influenza\n",
       "58646    Influenza\n",
       "58647    Influenza\n",
       "58648    Influenza\n",
       "58649    Influenza\n",
       "Name: Vaccine, Length: 58650, dtype: object>"
      ]
     },
     "execution_count": 27,
     "metadata": {},
     "output_type": "execute_result"
    }
   ],
   "source": [
    "vacc_yc['Vaccine'].value_counts"
   ]
  },
  {
   "cell_type": "code",
   "execution_count": 6,
   "metadata": {},
   "outputs": [
    {
     "data": {
      "text/html": [
       "<div>\n",
       "<style scoped>\n",
       "    .dataframe tbody tr th:only-of-type {\n",
       "        vertical-align: middle;\n",
       "    }\n",
       "\n",
       "    .dataframe tbody tr th {\n",
       "        vertical-align: top;\n",
       "    }\n",
       "\n",
       "    .dataframe thead th {\n",
       "        text-align: right;\n",
       "    }\n",
       "</style>\n",
       "<table border=\"1\" class=\"dataframe\">\n",
       "  <thead>\n",
       "    <tr style=\"text-align: right;\">\n",
       "      <th></th>\n",
       "      <th>Estimate (%)</th>\n",
       "      <th>Sample Size</th>\n",
       "    </tr>\n",
       "    <tr>\n",
       "      <th>Vaccine</th>\n",
       "      <th></th>\n",
       "      <th></th>\n",
       "    </tr>\n",
       "  </thead>\n",
       "  <tbody>\n",
       "    <tr>\n",
       "      <td>Combined 7 Series</td>\n",
       "      <td>72.511798</td>\n",
       "      <td>852.965044</td>\n",
       "    </tr>\n",
       "    <tr>\n",
       "      <td>DTaP</td>\n",
       "      <td>84.622671</td>\n",
       "      <td>851.911310</td>\n",
       "    </tr>\n",
       "    <tr>\n",
       "      <td>Hep A</td>\n",
       "      <td>66.076019</td>\n",
       "      <td>852.975874</td>\n",
       "    </tr>\n",
       "    <tr>\n",
       "      <td>Hep B</td>\n",
       "      <td>83.777653</td>\n",
       "      <td>851.648615</td>\n",
       "    </tr>\n",
       "    <tr>\n",
       "      <td>Hib</td>\n",
       "      <td>83.388539</td>\n",
       "      <td>852.057307</td>\n",
       "    </tr>\n",
       "    <tr>\n",
       "      <td>Influenza</td>\n",
       "      <td>56.372285</td>\n",
       "      <td>852.961298</td>\n",
       "    </tr>\n",
       "    <tr>\n",
       "      <td>MMR</td>\n",
       "      <td>82.666604</td>\n",
       "      <td>852.086604</td>\n",
       "    </tr>\n",
       "    <tr>\n",
       "      <td>PCV</td>\n",
       "      <td>83.686622</td>\n",
       "      <td>851.911310</td>\n",
       "    </tr>\n",
       "    <tr>\n",
       "      <td>Polio</td>\n",
       "      <td>89.226183</td>\n",
       "      <td>851.711135</td>\n",
       "    </tr>\n",
       "    <tr>\n",
       "      <td>Rotavirus</td>\n",
       "      <td>73.627715</td>\n",
       "      <td>852.965044</td>\n",
       "    </tr>\n",
       "    <tr>\n",
       "      <td>Varicella</td>\n",
       "      <td>81.728380</td>\n",
       "      <td>852.086604</td>\n",
       "    </tr>\n",
       "  </tbody>\n",
       "</table>\n",
       "</div>"
      ],
      "text/plain": [
       "                   Estimate (%)  Sample Size\n",
       "Vaccine                                     \n",
       "Combined 7 Series     72.511798   852.965044\n",
       "DTaP                  84.622671   851.911310\n",
       "Hep A                 66.076019   852.975874\n",
       "Hep B                 83.777653   851.648615\n",
       "Hib                   83.388539   852.057307\n",
       "Influenza             56.372285   852.961298\n",
       "MMR                   82.666604   852.086604\n",
       "PCV                   83.686622   851.911310\n",
       "Polio                 89.226183   851.711135\n",
       "Rotavirus             73.627715   852.965044\n",
       "Varicella             81.728380   852.086604"
      ]
     },
     "execution_count": 6,
     "metadata": {},
     "output_type": "execute_result"
    }
   ],
   "source": [
    "vacc_yc.groupby('Vaccine').mean()"
   ]
  },
  {
   "cell_type": "markdown",
   "metadata": {},
   "source": [
    "## Geography"
   ]
  },
  {
   "cell_type": "code",
   "execution_count": 7,
   "metadata": {},
   "outputs": [
    {
     "data": {
      "text/html": [
       "<div>\n",
       "<style scoped>\n",
       "    .dataframe tbody tr th:only-of-type {\n",
       "        vertical-align: middle;\n",
       "    }\n",
       "\n",
       "    .dataframe tbody tr th {\n",
       "        vertical-align: top;\n",
       "    }\n",
       "\n",
       "    .dataframe thead th {\n",
       "        text-align: right;\n",
       "    }\n",
       "</style>\n",
       "<table border=\"1\" class=\"dataframe\">\n",
       "  <thead>\n",
       "    <tr style=\"text-align: right;\">\n",
       "      <th></th>\n",
       "      <th>Geography</th>\n",
       "    </tr>\n",
       "  </thead>\n",
       "  <tbody>\n",
       "    <tr>\n",
       "      <td>count</td>\n",
       "      <td>58650</td>\n",
       "    </tr>\n",
       "    <tr>\n",
       "      <td>unique</td>\n",
       "      <td>79</td>\n",
       "    </tr>\n",
       "    <tr>\n",
       "      <td>top</td>\n",
       "      <td>Tennessee</td>\n",
       "    </tr>\n",
       "    <tr>\n",
       "      <td>freq</td>\n",
       "      <td>803</td>\n",
       "    </tr>\n",
       "  </tbody>\n",
       "</table>\n",
       "</div>"
      ],
      "text/plain": [
       "        Geography\n",
       "count       58650\n",
       "unique         79\n",
       "top     Tennessee\n",
       "freq          803"
      ]
     },
     "execution_count": 7,
     "metadata": {},
     "output_type": "execute_result"
    }
   ],
   "source": [
    "vacc_yc[['Geography']].describe()"
   ]
  },
  {
   "cell_type": "code",
   "execution_count": 8,
   "metadata": {},
   "outputs": [
    {
     "data": {
      "text/plain": [
       "Tennessee              803\n",
       "Louisiana              803\n",
       "Minnesota              803\n",
       "West Virginia          803\n",
       "Region 3               803\n",
       "                      ... \n",
       "TX-Tarrant County      292\n",
       "TX-Hidalgo County      227\n",
       "U.S. Virgin Islands     10\n",
       "Puerto Rico             10\n",
       "TX-Travis County         8\n",
       "Name: Geography, Length: 79, dtype: int64"
      ]
     },
     "execution_count": 8,
     "metadata": {},
     "output_type": "execute_result"
    }
   ],
   "source": [
    "vacc_yc['Geography'].value_counts()"
   ]
  },
  {
   "cell_type": "code",
   "execution_count": 9,
   "metadata": {},
   "outputs": [
    {
     "data": {
      "text/html": [
       "<div>\n",
       "<style scoped>\n",
       "    .dataframe tbody tr th:only-of-type {\n",
       "        vertical-align: middle;\n",
       "    }\n",
       "\n",
       "    .dataframe tbody tr th {\n",
       "        vertical-align: top;\n",
       "    }\n",
       "\n",
       "    .dataframe thead th {\n",
       "        text-align: right;\n",
       "    }\n",
       "</style>\n",
       "<table border=\"1\" class=\"dataframe\">\n",
       "  <thead>\n",
       "    <tr style=\"text-align: right;\">\n",
       "      <th></th>\n",
       "      <th>Estimate (%)</th>\n",
       "      <th>Sample Size</th>\n",
       "    </tr>\n",
       "    <tr>\n",
       "      <th>Geography</th>\n",
       "      <th></th>\n",
       "      <th></th>\n",
       "    </tr>\n",
       "  </thead>\n",
       "  <tbody>\n",
       "    <tr>\n",
       "      <td>Alabama</td>\n",
       "      <td>83.595517</td>\n",
       "      <td>345.909091</td>\n",
       "    </tr>\n",
       "    <tr>\n",
       "      <td>Alaska</td>\n",
       "      <td>77.064706</td>\n",
       "      <td>331.664581</td>\n",
       "    </tr>\n",
       "    <tr>\n",
       "      <td>Arizona</td>\n",
       "      <td>80.454670</td>\n",
       "      <td>326.818182</td>\n",
       "    </tr>\n",
       "    <tr>\n",
       "      <td>Arkansas</td>\n",
       "      <td>79.397136</td>\n",
       "      <td>324.090909</td>\n",
       "    </tr>\n",
       "    <tr>\n",
       "      <td>California</td>\n",
       "      <td>80.595517</td>\n",
       "      <td>396.181818</td>\n",
       "    </tr>\n",
       "    <tr>\n",
       "      <td>...</td>\n",
       "      <td>...</td>\n",
       "      <td>...</td>\n",
       "    </tr>\n",
       "    <tr>\n",
       "      <td>Virginia</td>\n",
       "      <td>83.095766</td>\n",
       "      <td>447.000000</td>\n",
       "    </tr>\n",
       "    <tr>\n",
       "      <td>Washington</td>\n",
       "      <td>81.513076</td>\n",
       "      <td>365.545455</td>\n",
       "    </tr>\n",
       "    <tr>\n",
       "      <td>West Virginia</td>\n",
       "      <td>80.276339</td>\n",
       "      <td>340.818182</td>\n",
       "    </tr>\n",
       "    <tr>\n",
       "      <td>Wisconsin</td>\n",
       "      <td>81.953549</td>\n",
       "      <td>311.181818</td>\n",
       "    </tr>\n",
       "    <tr>\n",
       "      <td>Wyoming</td>\n",
       "      <td>78.183562</td>\n",
       "      <td>311.909091</td>\n",
       "    </tr>\n",
       "  </tbody>\n",
       "</table>\n",
       "<p>79 rows × 2 columns</p>\n",
       "</div>"
      ],
      "text/plain": [
       "               Estimate (%)  Sample Size\n",
       "Geography                               \n",
       "Alabama           83.595517   345.909091\n",
       "Alaska            77.064706   331.664581\n",
       "Arizona           80.454670   326.818182\n",
       "Arkansas          79.397136   324.090909\n",
       "California        80.595517   396.181818\n",
       "...                     ...          ...\n",
       "Virginia          83.095766   447.000000\n",
       "Washington        81.513076   365.545455\n",
       "West Virginia     80.276339   340.818182\n",
       "Wisconsin         81.953549   311.181818\n",
       "Wyoming           78.183562   311.909091\n",
       "\n",
       "[79 rows x 2 columns]"
      ]
     },
     "execution_count": 9,
     "metadata": {},
     "output_type": "execute_result"
    }
   ],
   "source": [
    "vacc_yc.groupby('Geography').mean()"
   ]
  },
  {
   "cell_type": "markdown",
   "metadata": {},
   "source": [
    "## Birth Year/Birth Cohort"
   ]
  },
  {
   "cell_type": "code",
   "execution_count": 10,
   "metadata": {},
   "outputs": [
    {
     "data": {
      "text/html": [
       "<div>\n",
       "<style scoped>\n",
       "    .dataframe tbody tr th:only-of-type {\n",
       "        vertical-align: middle;\n",
       "    }\n",
       "\n",
       "    .dataframe tbody tr th {\n",
       "        vertical-align: top;\n",
       "    }\n",
       "\n",
       "    .dataframe thead th {\n",
       "        text-align: right;\n",
       "    }\n",
       "</style>\n",
       "<table border=\"1\" class=\"dataframe\">\n",
       "  <thead>\n",
       "    <tr style=\"text-align: right;\">\n",
       "      <th></th>\n",
       "      <th>Birth Year/Birth Cohort</th>\n",
       "    </tr>\n",
       "  </thead>\n",
       "  <tbody>\n",
       "    <tr>\n",
       "      <td>count</td>\n",
       "      <td>58650</td>\n",
       "    </tr>\n",
       "    <tr>\n",
       "      <td>unique</td>\n",
       "      <td>11</td>\n",
       "    </tr>\n",
       "    <tr>\n",
       "      <td>top</td>\n",
       "      <td>2016-2017</td>\n",
       "    </tr>\n",
       "    <tr>\n",
       "      <td>freq</td>\n",
       "      <td>5548</td>\n",
       "    </tr>\n",
       "  </tbody>\n",
       "</table>\n",
       "</div>"
      ],
      "text/plain": [
       "       Birth Year/Birth Cohort\n",
       "count                    58650\n",
       "unique                      11\n",
       "top                  2016-2017\n",
       "freq                      5548"
      ]
     },
     "execution_count": 10,
     "metadata": {},
     "output_type": "execute_result"
    }
   ],
   "source": [
    "vacc_yc[['Birth Year/Birth Cohort']].describe()"
   ]
  },
  {
   "cell_type": "code",
   "execution_count": 11,
   "metadata": {},
   "outputs": [
    {
     "data": {
      "text/plain": [
       "2016-2017    5548\n",
       "2016         5547\n",
       "2014-2015    5518\n",
       "2017         5470\n",
       "2014         5267\n",
       "2013-2014    5260\n",
       "2015         5226\n",
       "2015-2016    5226\n",
       "2013         5197\n",
       "2011         5196\n",
       "2012         5195\n",
       "Name: Birth Year/Birth Cohort, dtype: int64"
      ]
     },
     "execution_count": 11,
     "metadata": {},
     "output_type": "execute_result"
    }
   ],
   "source": [
    "vacc_yc['Birth Year/Birth Cohort'].value_counts()"
   ]
  },
  {
   "cell_type": "code",
   "execution_count": 12,
   "metadata": {},
   "outputs": [
    {
     "data": {
      "text/html": [
       "<div>\n",
       "<style scoped>\n",
       "    .dataframe tbody tr th:only-of-type {\n",
       "        vertical-align: middle;\n",
       "    }\n",
       "\n",
       "    .dataframe tbody tr th {\n",
       "        vertical-align: top;\n",
       "    }\n",
       "\n",
       "    .dataframe thead th {\n",
       "        text-align: right;\n",
       "    }\n",
       "</style>\n",
       "<table border=\"1\" class=\"dataframe\">\n",
       "  <thead>\n",
       "    <tr style=\"text-align: right;\">\n",
       "      <th></th>\n",
       "      <th>Estimate (%)</th>\n",
       "      <th>Sample Size</th>\n",
       "    </tr>\n",
       "    <tr>\n",
       "      <th>Birth Year/Birth Cohort</th>\n",
       "      <th></th>\n",
       "      <th></th>\n",
       "    </tr>\n",
       "  </thead>\n",
       "  <tbody>\n",
       "    <tr>\n",
       "      <td>2011</td>\n",
       "      <td>81.353628</td>\n",
       "      <td>653.731378</td>\n",
       "    </tr>\n",
       "    <tr>\n",
       "      <td>2012</td>\n",
       "      <td>81.763598</td>\n",
       "      <td>677.948466</td>\n",
       "    </tr>\n",
       "    <tr>\n",
       "      <td>2013</td>\n",
       "      <td>81.603338</td>\n",
       "      <td>670.901408</td>\n",
       "    </tr>\n",
       "    <tr>\n",
       "      <td>2013-2014</td>\n",
       "      <td>81.368037</td>\n",
       "      <td>1346.944444</td>\n",
       "    </tr>\n",
       "    <tr>\n",
       "      <td>2014</td>\n",
       "      <td>81.280228</td>\n",
       "      <td>685.439201</td>\n",
       "    </tr>\n",
       "    <tr>\n",
       "      <td>2014-2015</td>\n",
       "      <td>81.569047</td>\n",
       "      <td>1308.180863</td>\n",
       "    </tr>\n",
       "    <tr>\n",
       "      <td>2015</td>\n",
       "      <td>81.778722</td>\n",
       "      <td>693.661309</td>\n",
       "    </tr>\n",
       "    <tr>\n",
       "      <td>2015-2016</td>\n",
       "      <td>82.321393</td>\n",
       "      <td>1125.062189</td>\n",
       "    </tr>\n",
       "    <tr>\n",
       "      <td>2016</td>\n",
       "      <td>82.435461</td>\n",
       "      <td>674.541013</td>\n",
       "    </tr>\n",
       "    <tr>\n",
       "      <td>2016-2017</td>\n",
       "      <td>82.450595</td>\n",
       "      <td>1094.407895</td>\n",
       "    </tr>\n",
       "    <tr>\n",
       "      <td>2017</td>\n",
       "      <td>82.572815</td>\n",
       "      <td>425.500000</td>\n",
       "    </tr>\n",
       "  </tbody>\n",
       "</table>\n",
       "</div>"
      ],
      "text/plain": [
       "                         Estimate (%)  Sample Size\n",
       "Birth Year/Birth Cohort                           \n",
       "2011                        81.353628   653.731378\n",
       "2012                        81.763598   677.948466\n",
       "2013                        81.603338   670.901408\n",
       "2013-2014                   81.368037  1346.944444\n",
       "2014                        81.280228   685.439201\n",
       "2014-2015                   81.569047  1308.180863\n",
       "2015                        81.778722   693.661309\n",
       "2015-2016                   82.321393  1125.062189\n",
       "2016                        82.435461   674.541013\n",
       "2016-2017                   82.450595  1094.407895\n",
       "2017                        82.572815   425.500000"
      ]
     },
     "execution_count": 12,
     "metadata": {},
     "output_type": "execute_result"
    }
   ],
   "source": [
    "vacc_yc.groupby('Birth Year/Birth Cohort').mean()"
   ]
  },
  {
   "cell_type": "markdown",
   "metadata": {},
   "source": [
    "## Age"
   ]
  },
  {
   "cell_type": "code",
   "execution_count": 13,
   "metadata": {},
   "outputs": [
    {
     "data": {
      "text/html": [
       "<div>\n",
       "<style scoped>\n",
       "    .dataframe tbody tr th:only-of-type {\n",
       "        vertical-align: middle;\n",
       "    }\n",
       "\n",
       "    .dataframe tbody tr th {\n",
       "        vertical-align: top;\n",
       "    }\n",
       "\n",
       "    .dataframe thead th {\n",
       "        text-align: right;\n",
       "    }\n",
       "</style>\n",
       "<table border=\"1\" class=\"dataframe\">\n",
       "  <thead>\n",
       "    <tr style=\"text-align: right;\">\n",
       "      <th></th>\n",
       "      <th>Age</th>\n",
       "    </tr>\n",
       "  </thead>\n",
       "  <tbody>\n",
       "    <tr>\n",
       "      <td>count</td>\n",
       "      <td>58650</td>\n",
       "    </tr>\n",
       "    <tr>\n",
       "      <td>unique</td>\n",
       "      <td>11</td>\n",
       "    </tr>\n",
       "    <tr>\n",
       "      <td>top</td>\n",
       "      <td>35 Months</td>\n",
       "    </tr>\n",
       "    <tr>\n",
       "      <td>freq</td>\n",
       "      <td>11214</td>\n",
       "    </tr>\n",
       "  </tbody>\n",
       "</table>\n",
       "</div>"
      ],
      "text/plain": [
       "              Age\n",
       "count       58650\n",
       "unique         11\n",
       "top     35 Months\n",
       "freq        11214"
      ]
     },
     "execution_count": 13,
     "metadata": {},
     "output_type": "execute_result"
    }
   ],
   "source": [
    "vacc_yc[['Age']].describe()"
   ]
  },
  {
   "cell_type": "code",
   "execution_count": 14,
   "metadata": {},
   "outputs": [
    {
     "data": {
      "text/plain": [
       "35 Months    11214\n",
       "24 Months    11213\n",
       "19 Months    10449\n",
       "13 Months     8040\n",
       "7 Months      6426\n",
       "3 Months      4020\n",
       "5 Months      4020\n",
       "8 Months       830\n",
       "0-3 Days       830\n",
       "0-1 Days       804\n",
       "0-2 Days       804\n",
       "Name: Age, dtype: int64"
      ]
     },
     "execution_count": 14,
     "metadata": {},
     "output_type": "execute_result"
    }
   ],
   "source": [
    "vacc_yc['Age'].value_counts()"
   ]
  },
  {
   "cell_type": "code",
   "execution_count": 15,
   "metadata": {},
   "outputs": [
    {
     "data": {
      "text/html": [
       "<div>\n",
       "<style scoped>\n",
       "    .dataframe tbody tr th:only-of-type {\n",
       "        vertical-align: middle;\n",
       "    }\n",
       "\n",
       "    .dataframe tbody tr th {\n",
       "        vertical-align: top;\n",
       "    }\n",
       "\n",
       "    .dataframe thead th {\n",
       "        text-align: right;\n",
       "    }\n",
       "</style>\n",
       "<table border=\"1\" class=\"dataframe\">\n",
       "  <thead>\n",
       "    <tr style=\"text-align: right;\">\n",
       "      <th></th>\n",
       "      <th>Estimate (%)</th>\n",
       "      <th>Sample Size</th>\n",
       "    </tr>\n",
       "    <tr>\n",
       "      <th>Age</th>\n",
       "      <th></th>\n",
       "      <th></th>\n",
       "    </tr>\n",
       "  </thead>\n",
       "  <tbody>\n",
       "    <tr>\n",
       "      <td>0-1 Days</td>\n",
       "      <td>66.890796</td>\n",
       "      <td>851.211443</td>\n",
       "    </tr>\n",
       "    <tr>\n",
       "      <td>0-2 Days</td>\n",
       "      <td>73.276368</td>\n",
       "      <td>851.211443</td>\n",
       "    </tr>\n",
       "    <tr>\n",
       "      <td>0-3 Days</td>\n",
       "      <td>74.892634</td>\n",
       "      <td>852.965044</td>\n",
       "    </tr>\n",
       "    <tr>\n",
       "      <td>13 Months</td>\n",
       "      <td>82.601045</td>\n",
       "      <td>851.211443</td>\n",
       "    </tr>\n",
       "    <tr>\n",
       "      <td>19 Months</td>\n",
       "      <td>80.595732</td>\n",
       "      <td>851.412575</td>\n",
       "    </tr>\n",
       "    <tr>\n",
       "      <td>24 Months</td>\n",
       "      <td>81.245840</td>\n",
       "      <td>853.032997</td>\n",
       "    </tr>\n",
       "    <tr>\n",
       "      <td>3 Months</td>\n",
       "      <td>88.207214</td>\n",
       "      <td>851.211443</td>\n",
       "    </tr>\n",
       "    <tr>\n",
       "      <td>35 Months</td>\n",
       "      <td>88.916381</td>\n",
       "      <td>852.965044</td>\n",
       "    </tr>\n",
       "    <tr>\n",
       "      <td>5 Months</td>\n",
       "      <td>79.464751</td>\n",
       "      <td>851.211443</td>\n",
       "    </tr>\n",
       "    <tr>\n",
       "      <td>7 Months</td>\n",
       "      <td>74.218503</td>\n",
       "      <td>851.809057</td>\n",
       "    </tr>\n",
       "    <tr>\n",
       "      <td>8 Months</td>\n",
       "      <td>73.627715</td>\n",
       "      <td>852.965044</td>\n",
       "    </tr>\n",
       "  </tbody>\n",
       "</table>\n",
       "</div>"
      ],
      "text/plain": [
       "           Estimate (%)  Sample Size\n",
       "Age                                 \n",
       "0-1 Days      66.890796   851.211443\n",
       "0-2 Days      73.276368   851.211443\n",
       "0-3 Days      74.892634   852.965044\n",
       "13 Months     82.601045   851.211443\n",
       "19 Months     80.595732   851.412575\n",
       "24 Months     81.245840   853.032997\n",
       "3 Months      88.207214   851.211443\n",
       "35 Months     88.916381   852.965044\n",
       "5 Months      79.464751   851.211443\n",
       "7 Months      74.218503   851.809057\n",
       "8 Months      73.627715   852.965044"
      ]
     },
     "execution_count": 15,
     "metadata": {},
     "output_type": "execute_result"
    }
   ],
   "source": [
    "vacc_yc.groupby('Age').mean()"
   ]
  },
  {
   "cell_type": "markdown",
   "metadata": {},
   "source": [
    "# Graphs"
   ]
  },
  {
   "cell_type": "code",
   "execution_count": 16,
   "metadata": {},
   "outputs": [
    {
     "data": {
      "text/plain": [
       "<matplotlib.axes._subplots.AxesSubplot at 0x7fd75c2c9f50>"
      ]
     },
     "execution_count": 16,
     "metadata": {},
     "output_type": "execute_result"
    }
   ],
   "source": [
    "vacc_yc.groupby('Age').mean().plot.bar( y='Estimate (%)')"
   ]
  },
  {
   "cell_type": "code",
   "execution_count": 17,
   "metadata": {},
   "outputs": [
    {
     "data": {
      "text/plain": [
       "<matplotlib.axes._subplots.AxesSubplot at 0x7fd75c646550>"
      ]
     },
     "execution_count": 17,
     "metadata": {},
     "output_type": "execute_result"
    },
    {
     "data": {
      "image/png": "[encoded data removed]",
      "text/plain": [
       "<Figure size 432x288 with 1 Axes>"
      ]
     },
     "metadata": {
      "needs_background": "light"
     },
     "output_type": "display_data"
    }
   ],
   "source": [
    "vacc_yc.groupby('Vaccine').mean().plot.bar( y='Estimate (%)')"
   ]
  },
  {
   "cell_type": "code",
   "execution_count": 18,
   "metadata": {},
   "outputs": [
    {
     "data": {
      "text/plain": [
       "<matplotlib.axes._subplots.AxesSubplot at 0x7fd75cd6c2d0>"
      ]
     },
     "execution_count": 18,
     "metadata": {},
     "output_type": "execute_result"
    },
    {
     "data": {
      "image/png": "[encoded data removed]",
      "text/plain": [
       "<Figure size 432x288 with 1 Axes>"
      ]
     },
     "metadata": {
      "needs_background": "light"
     },
     "output_type": "display_data"
    }
   ],
   "source": [
    "vacc_yc.groupby('Birth Year/Birth Cohort').mean().plot.bar( y='Estimate (%)')"
   ]
  },
  {
   "cell_type": "code",
   "execution_count": 19,
   "metadata": {},
   "outputs": [
    {
     "data": {
      "text/plain": [
       "<matplotlib.axes._subplots.AxesSubplot at 0x7fd75cdd2050>"
      ]
     },
     "execution_count": 19,
     "metadata": {},
     "output_type": "execute_result"
    },
    {
     "data": {
      "image/png": "[encoded data removed]",
      "text/plain": [
       "<Figure size 432x288 with 1 Axes>"
      ]
     },
     "metadata": {
      "needs_background": "light"
     },
     "output_type": "display_data"
    }
   ],
   "source": [
    "vacc_yc.groupby('Age').mean().plot.bar( y='Sample Size')"
   ]
  },
  {
   "cell_type": "code",
   "execution_count": 20,
   "metadata": {},
   "outputs": [
    {
     "data": {
      "text/plain": [
       "<matplotlib.axes._subplots.AxesSubplot at 0x7fd75d7629d0>"
      ]
     },
     "execution_count": 20,
     "metadata": {},
     "output_type": "execute_result"
    },
    {
     "data": {
      "image/png": "[encoded data removed]",
      "text/plain": [
       "<Figure size 432x288 with 1 Axes>"
      ]
     },
     "metadata": {
      "needs_background": "light"
     },
     "output_type": "display_data"
    }
   ],
   "source": [
    "vacc_yc.groupby('Vaccine').sum().plot.bar( y='Sample Size')"
   ]
  },
  {
   "cell_type": "code",
   "execution_count": 33,
   "metadata": {},
   "outputs": [
    {
     "data": {
      "text/plain": [
       "<matplotlib.axes._subplots.AxesSubplot at 0x7fd75e125190>"
      ]
     },
     "execution_count": 33,
     "metadata": {},
     "output_type": "execute_result"
    },
    {
     "data": {
      "image/png": "[encoded data removed]",
      "text/plain": [
       "<Figure size 720x720 with 1 Axes>"
      ]
     },
     "metadata": {},
     "output_type": "display_data"
    }
   ],
   "source": [
    "vacc_yc[['Vaccine', 'Sample Size']].groupby('Vaccine').sum().plot.pie(y='Sample Size', figsize=(10, 10))"
   ]
  },
  {
   "cell_type": "code",
   "execution_count": null,
   "metadata": {},
   "outputs": [],
   "source": []
  }
 ],
 "metadata": {
  "kernelspec": {
   "display_name": "Python 3",
   "language": "python",
   "name": "python3"
  },
  "language_info": {
   "codemirror_mode": {
    "name": "ipython",
    "version": 3
   },
   "file_extension": ".py",
   "mimetype": "text/x-python",
   "name": "python",
   "nbconvert_exporter": "python",
   "pygments_lexer": "ipython3",
   "version": "3.7.4"
  }
 },
 "nbformat": 4,
 "nbformat_minor": 2
}
