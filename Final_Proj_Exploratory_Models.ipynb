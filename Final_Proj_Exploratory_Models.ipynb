{
 "cells": [
  {
   "cell_type": "markdown",
   "metadata": {},
   "source": [
    "# Michael Kastanowski, mrk9fx\n",
    "# Gary Mitchell , gm3gq\n",
    "\n",
    "## Section 2 Group 7"
   ]
  },
  {
   "cell_type": "code",
   "execution_count": 31,
   "metadata": {},
   "outputs": [],
   "source": [
    "import csv\n",
    "import sys\n",
    "import pandas as pd\n",
    "import time\n",
    "from pyspark.sql import SparkSession,SQLContext \n",
    "from pyspark.sql.functions import col\n",
    "from pyspark.mllib.linalg import Vectors\n",
    "from pyspark.ml.clustering import KMeans\n",
    "from pyspark.ml.evaluation import ClusteringEvaluator,RegressionEvaluator, BinaryClassificationEvaluator\n",
    "from pyspark.ml.feature import VectorAssembler, OneHotEncoder, StringIndexer\n",
    "from pyspark.ml.regression import LinearRegression\n",
    "from pyspark.ml import Pipeline  \n",
    "from pyspark.ml.tuning import CrossValidator, ParamGridBuilder\n",
    "\n",
    "\n",
    "#import pyspark.sql.functions as F\n",
    "#import pyspark.mllib.regression as reg\n",
    "#from pyspark.mllib.classification import LogisticRegressionWithLBFGS\n",
    "#from pyspark.mllib.evaluation import BinaryClassificationMetrics\n",
    "#from pyspark.ml.feature import *  \n",
    "spark= SparkSession.builder.getOrCreate()\n",
    "sc = spark.sparkContext\n",
    "sqlContext = SQLContext(sc)\n",
    "\n",
    "\n"
   ]
  },
  {
   "cell_type": "code",
   "execution_count": 2,
   "metadata": {},
   "outputs": [],
   "source": [
    "vacc_yc= pd.read_csv(\"Vaccination_Coverage_among_Young_Children__0-35_Months_.csv\")"
   ]
  },
  {
   "cell_type": "code",
   "execution_count": 3,
   "metadata": {},
   "outputs": [],
   "source": [
    "vacc_yc[[\"Estimate (%)\"]]=vacc_yc[[\"Estimate (%)\"]].apply(pd.to_numeric)"
   ]
  },
  {
   "cell_type": "code",
   "execution_count": 4,
   "metadata": {},
   "outputs": [
    {
     "data": {
      "text/html": [
       "<div>\n",
       "<style scoped>\n",
       "    .dataframe tbody tr th:only-of-type {\n",
       "        vertical-align: middle;\n",
       "    }\n",
       "\n",
       "    .dataframe tbody tr th {\n",
       "        vertical-align: top;\n",
       "    }\n",
       "\n",
       "    .dataframe thead th {\n",
       "        text-align: right;\n",
       "    }\n",
       "</style>\n",
       "<table border=\"1\" class=\"dataframe\">\n",
       "  <thead>\n",
       "    <tr style=\"text-align: right;\">\n",
       "      <th></th>\n",
       "      <th>Vaccine</th>\n",
       "      <th>Dose</th>\n",
       "      <th>Geography Type</th>\n",
       "      <th>Geography</th>\n",
       "      <th>Birth Year/Birth Cohort</th>\n",
       "      <th>Age</th>\n",
       "      <th>Estimate (%)</th>\n",
       "      <th>95% CI (%)</th>\n",
       "      <th>Sample Size</th>\n",
       "    </tr>\n",
       "  </thead>\n",
       "  <tbody>\n",
       "    <tr>\n",
       "      <td>0</td>\n",
       "      <td>DTaP</td>\n",
       "      <td>≥1 Dose</td>\n",
       "      <td>States/Local Areas</td>\n",
       "      <td>Alabama</td>\n",
       "      <td>2011</td>\n",
       "      <td>3 Months</td>\n",
       "      <td>87.6</td>\n",
       "      <td>81.6 to 91.8</td>\n",
       "      <td>218.0</td>\n",
       "    </tr>\n",
       "    <tr>\n",
       "      <td>1</td>\n",
       "      <td>DTaP</td>\n",
       "      <td>≥1 Dose</td>\n",
       "      <td>States/Local Areas</td>\n",
       "      <td>Alaska</td>\n",
       "      <td>2011</td>\n",
       "      <td>3 Months</td>\n",
       "      <td>87.9</td>\n",
       "      <td>85.5 to 89.9</td>\n",
       "      <td>288.0</td>\n",
       "    </tr>\n",
       "    <tr>\n",
       "      <td>2</td>\n",
       "      <td>DTaP</td>\n",
       "      <td>≥1 Dose</td>\n",
       "      <td>States/Local Areas</td>\n",
       "      <td>Arizona</td>\n",
       "      <td>2011</td>\n",
       "      <td>3 Months</td>\n",
       "      <td>84.8</td>\n",
       "      <td>79.5 to 88.9</td>\n",
       "      <td>266.0</td>\n",
       "    </tr>\n",
       "    <tr>\n",
       "      <td>3</td>\n",
       "      <td>DTaP</td>\n",
       "      <td>≥1 Dose</td>\n",
       "      <td>States/Local Areas</td>\n",
       "      <td>Arkansas</td>\n",
       "      <td>2011</td>\n",
       "      <td>3 Months</td>\n",
       "      <td>80.6</td>\n",
       "      <td>75.7 to 84.7</td>\n",
       "      <td>230.0</td>\n",
       "    </tr>\n",
       "    <tr>\n",
       "      <td>4</td>\n",
       "      <td>DTaP</td>\n",
       "      <td>≥1 Dose</td>\n",
       "      <td>States/Local Areas</td>\n",
       "      <td>California</td>\n",
       "      <td>2011</td>\n",
       "      <td>3 Months</td>\n",
       "      <td>89.6</td>\n",
       "      <td>84.2 to 93.3</td>\n",
       "      <td>298.0</td>\n",
       "    </tr>\n",
       "    <tr>\n",
       "      <td>...</td>\n",
       "      <td>...</td>\n",
       "      <td>...</td>\n",
       "      <td>...</td>\n",
       "      <td>...</td>\n",
       "      <td>...</td>\n",
       "      <td>...</td>\n",
       "      <td>...</td>\n",
       "      <td>...</td>\n",
       "      <td>...</td>\n",
       "    </tr>\n",
       "    <tr>\n",
       "      <td>58645</td>\n",
       "      <td>Influenza</td>\n",
       "      <td>NaN</td>\n",
       "      <td>States/Local Areas</td>\n",
       "      <td>Virginia</td>\n",
       "      <td>2017</td>\n",
       "      <td>24 Months</td>\n",
       "      <td>63.2</td>\n",
       "      <td>51.6 to 74.7</td>\n",
       "      <td>201.0</td>\n",
       "    </tr>\n",
       "    <tr>\n",
       "      <td>58646</td>\n",
       "      <td>Influenza</td>\n",
       "      <td>NaN</td>\n",
       "      <td>States/Local Areas</td>\n",
       "      <td>Washington</td>\n",
       "      <td>2017</td>\n",
       "      <td>24 Months</td>\n",
       "      <td>72.9</td>\n",
       "      <td>64.3 to 80.8</td>\n",
       "      <td>235.0</td>\n",
       "    </tr>\n",
       "    <tr>\n",
       "      <td>58647</td>\n",
       "      <td>Influenza</td>\n",
       "      <td>NaN</td>\n",
       "      <td>States/Local Areas</td>\n",
       "      <td>West Virginia</td>\n",
       "      <td>2017</td>\n",
       "      <td>24 Months</td>\n",
       "      <td>54.0</td>\n",
       "      <td>44.6 to 64.1</td>\n",
       "      <td>175.0</td>\n",
       "    </tr>\n",
       "    <tr>\n",
       "      <td>58648</td>\n",
       "      <td>Influenza</td>\n",
       "      <td>NaN</td>\n",
       "      <td>States/Local Areas</td>\n",
       "      <td>Wisconsin</td>\n",
       "      <td>2017</td>\n",
       "      <td>24 Months</td>\n",
       "      <td>68.2</td>\n",
       "      <td>57.9 to 78.1</td>\n",
       "      <td>161.0</td>\n",
       "    </tr>\n",
       "    <tr>\n",
       "      <td>58649</td>\n",
       "      <td>Influenza</td>\n",
       "      <td>NaN</td>\n",
       "      <td>States/Local Areas</td>\n",
       "      <td>Wyoming</td>\n",
       "      <td>2017</td>\n",
       "      <td>24 Months</td>\n",
       "      <td>59.7</td>\n",
       "      <td>50.3 to 69.4</td>\n",
       "      <td>170.0</td>\n",
       "    </tr>\n",
       "  </tbody>\n",
       "</table>\n",
       "<p>58650 rows × 9 columns</p>\n",
       "</div>"
      ],
      "text/plain": [
       "         Vaccine     Dose      Geography Type      Geography  \\\n",
       "0           DTaP  ≥1 Dose  States/Local Areas        Alabama   \n",
       "1           DTaP  ≥1 Dose  States/Local Areas         Alaska   \n",
       "2           DTaP  ≥1 Dose  States/Local Areas        Arizona   \n",
       "3           DTaP  ≥1 Dose  States/Local Areas       Arkansas   \n",
       "4           DTaP  ≥1 Dose  States/Local Areas     California   \n",
       "...          ...      ...                 ...            ...   \n",
       "58645  Influenza      NaN  States/Local Areas       Virginia   \n",
       "58646  Influenza      NaN  States/Local Areas     Washington   \n",
       "58647  Influenza      NaN  States/Local Areas  West Virginia   \n",
       "58648  Influenza      NaN  States/Local Areas      Wisconsin   \n",
       "58649  Influenza      NaN  States/Local Areas        Wyoming   \n",
       "\n",
       "      Birth Year/Birth Cohort        Age  Estimate (%)    95% CI (%)  \\\n",
       "0                        2011   3 Months          87.6  81.6 to 91.8   \n",
       "1                        2011   3 Months          87.9  85.5 to 89.9   \n",
       "2                        2011   3 Months          84.8  79.5 to 88.9   \n",
       "3                        2011   3 Months          80.6  75.7 to 84.7   \n",
       "4                        2011   3 Months          89.6  84.2 to 93.3   \n",
       "...                       ...        ...           ...           ...   \n",
       "58645                    2017  24 Months          63.2  51.6 to 74.7   \n",
       "58646                    2017  24 Months          72.9  64.3 to 80.8   \n",
       "58647                    2017  24 Months          54.0  44.6 to 64.1   \n",
       "58648                    2017  24 Months          68.2  57.9 to 78.1   \n",
       "58649                    2017  24 Months          59.7  50.3 to 69.4   \n",
       "\n",
       "       Sample Size  \n",
       "0            218.0  \n",
       "1            288.0  \n",
       "2            266.0  \n",
       "3            230.0  \n",
       "4            298.0  \n",
       "...            ...  \n",
       "58645        201.0  \n",
       "58646        235.0  \n",
       "58647        175.0  \n",
       "58648        161.0  \n",
       "58649        170.0  \n",
       "\n",
       "[58650 rows x 9 columns]"
      ]
     },
     "execution_count": 4,
     "metadata": {},
     "output_type": "execute_result"
    }
   ],
   "source": [
    "vacc_yc #for quick reference"
   ]
  },
  {
   "cell_type": "code",
   "execution_count": 5,
   "metadata": {},
   "outputs": [],
   "source": [
    "df = spark.read.csv(\"Vaccination_Coverage_among_Young_Children__0-35_Months_.csv\",header=True, inferSchema=True).dropna()"
   ]
  },
  {
   "cell_type": "code",
   "execution_count": 15,
   "metadata": {},
   "outputs": [],
   "source": [
    "# Estimate to Float\n",
    "#df=df.withColumn(\"est\", col('Estimate (%)').cast(\"float\"))\n",
    "df=df.withColumn(\"year\", col('Birth Year/Birth Cohort').cast(\"float\"))"
   ]
  },
  {
   "cell_type": "code",
   "execution_count": 7,
   "metadata": {},
   "outputs": [
    {
     "data": {
      "text/plain": [
       "DataFrame[Vaccine: string, Dose: string, Geography Type: string, Geography: string, Birth Year/Birth Cohort: string, Age: string, Estimate (%): string, 95% CI (%): string, Sample Size: int, est: float, year: int]"
      ]
     },
     "execution_count": 7,
     "metadata": {},
     "output_type": "execute_result"
    }
   ],
   "source": [
    "df"
   ]
  },
  {
   "cell_type": "code",
   "execution_count": 20,
   "metadata": {},
   "outputs": [],
   "source": [
    "#Vaccine Dummy Coding\n",
    "\n",
    "vacc_string = StringIndexer(inputCol=\"Vaccine\", outputCol=\"VaccineIndex\")\n",
    "vacc_encoder = OneHotEncoder(inputCol=\"VaccineIndex\", outputCol=\"VaccineVec\")\n",
    "\n",
    "geo_string = StringIndexer(inputCol=\"Geography\", outputCol=\"GeoIndex\")\n",
    "geo_encoder = OneHotEncoder(inputCol=\"GeoIndex\", outputCol=\"GeoVec\")\n",
    "\n",
    "age_string=StringIndexer(inputCol=\"Age\", outputCol=\"AgeIndex\")\n",
    "age_encoder = OneHotEncoder(inputCol=\"AgeIndex\", outputCol=\"AgeVec\")\n",
    "\n",
    "year_string=StringIndexer(inputCol=\"Birth Year/Birth Cohort\", outputCol=\"BirthYearIndex\")\n",
    "year_encoder = OneHotEncoder(inputCol=\"BirthYearIndex\", outputCol=\"BirthYearVec\")\n",
    "\n",
    "assembler =VectorAssembler(inputCols=[\"Sample Size\", 'GeoVec', 'VaccineVec', \"BirthYearVec\"], outputCol='features')"
   ]
  },
  {
   "cell_type": "code",
   "execution_count": 21,
   "metadata": {},
   "outputs": [],
   "source": [
    "#Linear Regression Model\n",
    "lr = LinearRegression(featuresCol='features',         # feature vector name\n",
    "                      labelCol='est',  # target variable name\n",
    "                      maxIter=10,\n",
    "                      regParam=0.3, \n",
    "                      elasticNetParam=0.8)\n",
    "\n",
    "lr_pipeline = Pipeline(stages=[vacc_string, vacc_encoder, geo_string, geo_encoder, age_string, age_encoder, \\\n",
    "                               year_string, year_encoder, assembler, lr] )\n",
    "lrModel=lr_pipeline.fit(df)\n",
    "lrPred=lrModel.transform(df)"
   ]
  },
  {
   "cell_type": "code",
   "execution_count": 22,
   "metadata": {},
   "outputs": [
    {
     "name": "stdout",
     "output_type": "stream",
     "text": [
      "--------------------\n",
      "METRICS\n",
      "Mean Squared Error: 161.20379798463597\n",
      "R Squared: 0.16798294161265048\n"
     ]
    }
   ],
   "source": [
    "ev = RegressionEvaluator(predictionCol=\"prediction\", labelCol=\"est\")\n",
    "print('-'*20)\n",
    "print(\"METRICS\")\n",
    "print(\"Mean Squared Error:\", ev.evaluate(lrPred, {ev.metricName: \"mse\"}))\n",
    "print(\"R Squared:\", ev.evaluate(lrPred, {ev.metricName:'r2'}))"
   ]
  },
  {
   "cell_type": "code",
   "execution_count": 24,
   "metadata": {},
   "outputs": [],
   "source": [
    "# Lasso Regression Model\n",
    "lasso = LinearRegression(featuresCol='features',         # feature vector name\n",
    "                      labelCol='est',  # target variable name\n",
    "                      maxIter=10,\n",
    "                      regParam=0.3, \n",
    "                      elasticNetParam=1)\n",
    "\n",
    "lasso_pipeline = Pipeline(stages=[vacc_string, vacc_encoder, geo_string, geo_encoder, age_string, age_encoder, \\\n",
    "                               year_string, year_encoder, assembler, lasso] )\n",
    "lassoModel=lasso_pipeline.fit(df)\n",
    "lassoPred=lassoModel.transform(df)\n"
   ]
  },
  {
   "cell_type": "code",
   "execution_count": 25,
   "metadata": {},
   "outputs": [
    {
     "name": "stdout",
     "output_type": "stream",
     "text": [
      "--------------------\n",
      "METRICS\n",
      "Mean Squared Error: 161.89803621688833\n",
      "R Squared: 0.1643997874994101\n"
     ]
    }
   ],
   "source": [
    "print('-'*20)\n",
    "print(\"METRICS\")\n",
    "print(\"Mean Squared Error:\", ev.evaluate(lassoPred, {ev.metricName: \"mse\"}))\n",
    "print(\"R Squared:\", ev.evaluate(lassoPred, {ev.metricName:'r2'}))"
   ]
  },
  {
   "cell_type": "code",
   "execution_count": 26,
   "metadata": {},
   "outputs": [],
   "source": [
    "# Ridge Regression Model\n",
    "ridge = LinearRegression(featuresCol='features',         # feature vector name\n",
    "                      labelCol='est',  # target variable name\n",
    "                      maxIter=10,\n",
    "                      regParam=0.3, \n",
    "                      elasticNetParam=0)\n",
    "\n",
    "ridge_pipeline =Pipeline(stages=[vacc_string, vacc_encoder, geo_string, geo_encoder, age_string, age_encoder, \\\n",
    "                               year_string, year_encoder, assembler, ridge] )\n",
    "ridgeModel=ridge_pipeline.fit(df)\n",
    "ridgePred=ridgeModel.transform(df)"
   ]
  },
  {
   "cell_type": "code",
   "execution_count": 27,
   "metadata": {},
   "outputs": [
    {
     "name": "stdout",
     "output_type": "stream",
     "text": [
      "--------------------\n",
      "METRICS\n",
      "Mean Squared Error: 158.3815072936676\n",
      "R Squared: 0.1825495587021394\n"
     ]
    }
   ],
   "source": [
    "print('-'*20)\n",
    "print(\"METRICS\")\n",
    "print(\"Mean Squared Error:\", ev.evaluate(ridgePred, {ev.metricName: \"mse\"}))\n",
    "print(\"R Squared:\", ev.evaluate(ridgePred, {ev.metricName:'r2'}))"
   ]
  },
  {
   "cell_type": "code",
   "execution_count": 28,
   "metadata": {},
   "outputs": [],
   "source": [
    "# Cross Validation"
   ]
  },
  {
   "cell_type": "code",
   "execution_count": 37,
   "metadata": {},
   "outputs": [],
   "source": [
    "paramGrid = ParamGridBuilder() \\\n",
    "    .addGrid(lr.regParam, [0.1, 0.01]) \\\n",
    "    .build()\n",
    "\n",
    "crossval = CrossValidator(estimator=ridge_pipeline,\n",
    "                          estimatorParamMaps=paramGrid,\n",
    "                          evaluator=RegressionEvaluator().setLabelCol('est'),\n",
    "                          numFolds=2)"
   ]
  },
  {
   "cell_type": "code",
   "execution_count": 38,
   "metadata": {},
   "outputs": [
    {
     "name": "stdout",
     "output_type": "stream",
     "text": [
      "train time: 10.26500391960144\n",
      "------------------------------\n"
     ]
    }
   ],
   "source": [
    "t0 = time.time()\n",
    "cvModel = crossval.setParallelism(1).fit(df) # train 4 models in parallel\n",
    "#cvModel = crossval.fit(training)\n",
    "print(\"train time:\", time.time() - t0)\n",
    "print('-'*30)"
   ]
  },
  {
   "cell_type": "code",
   "execution_count": 39,
   "metadata": {},
   "outputs": [
    {
     "data": {
      "text/plain": [
       "CrossValidatorModel_f5859eee88db"
      ]
     },
     "execution_count": 39,
     "metadata": {},
     "output_type": "execute_result"
    }
   ],
   "source": [
    "cvModel"
   ]
  },
  {
   "cell_type": "code",
   "execution_count": null,
   "metadata": {},
   "outputs": [],
   "source": []
  }
 ],
 "metadata": {
  "kernelspec": {
   "display_name": "Python 3",
   "language": "python",
   "name": "python3"
  },
  "language_info": {
   "codemirror_mode": {
    "name": "ipython",
    "version": 3
   },
   "file_extension": ".py",
   "mimetype": "text/x-python",
   "name": "python",
   "nbconvert_exporter": "python",
   "pygments_lexer": "ipython3",
   "version": "3.7.4"
  }
 },
 "nbformat": 4,
 "nbformat_minor": 2
}
